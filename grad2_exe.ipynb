{
  "nbformat": 4,
  "nbformat_minor": 0,
  "metadata": {
    "colab": {
      "name": "grad2.ipynb",
      "provenance": []
    },
    "kernelspec": {
      "name": "python3",
      "display_name": "Python 3"
    },
    "language_info": {
      "name": "python"
    }
  },
  "cells": [
    {
      "cell_type": "code",
      "execution_count": 1,
      "metadata": {
        "colab": {
          "base_uri": "https://localhost:8080/",
          "height": 1000
        },
        "id": "7UnymTp5ZRPv",
        "outputId": "78099421-41c5-42b8-d710-7520f3c4284d"
      },
      "outputs": [
        {
          "output_type": "stream",
          "name": "stdout",
          "text": [
            "X= 7.199999999999999 loss 27.639999999999993\n",
            "X= 5.52 loss 16.350399999999997\n",
            "X= 4.512 loss 12.286143999999998\n",
            "X= 3.9071999999999996 loss 10.82301184\n",
            "X= 3.54432 loss 10.2962842624\n",
            "X= 3.3265919999999998 loss 10.106662334464\n",
            "X= 3.1959551999999998 loss 10.03839844040704\n",
            "X= 3.11757312 loss 10.013823438546535\n",
            "X= 3.070543872 loss 10.004976437876753\n",
            "X= 3.0423263232 loss 10.001791517635631\n",
            "X= 3.02539579392 loss 10.000644946348826\n",
            "X= 3.015237476352 loss 10.000232180685577\n",
            "X= 3.0091424858112 loss 10.000083585046807\n",
            "X= 3.00548549148672 loss 10.000030090616852\n",
            "X= 3.003291294892032 loss 10.000010832622067\n",
            "X= 3.0019747769352194 loss 10.000003899743945\n",
            "X= 3.0011848661611316 loss 10.00000140390782\n",
            "X= 3.000710919696679 loss 10.000000505406815\n",
            "X= 3.0004265518180073 loss 10.000000181946453\n",
            "X= 3.0002559310908046 loss 10.000000065500723\n",
            "X= 3.0001535586544827 loss 10.00000002358026\n",
            "X= 3.0000921351926895 loss 10.000000008488893\n",
            "X= 3.0000552811156136 loss 10.000000003056002\n",
            "X= 3.000033168669368 loss 10.00000000110016\n",
            "X= 3.000019901201621 loss 10.000000000396058\n",
            "X= 3.0000119407209724 loss 10.000000000142581\n",
            "X= 3.0000071644325836 loss 10.00000000005133\n",
            "X= 3.00000429865955 loss 10.000000000018478\n",
            "X= 3.00000257919573 loss 10.000000000006652\n",
            "X= 3.0000015475174377 loss 10.000000000002395\n",
            "X= 3.0000009285104627 loss 10.000000000000862\n",
            "X= 3.0000005571062776 loss 10.00000000000031\n",
            "X= 3.0000003342637664 loss 10.000000000000112\n",
            "X= 3.0000002005582598 loss 10.00000000000004\n",
            "X= 3.0000001203349558 loss 10.000000000000014\n",
            "X= 3.0000000722009736 loss 10.000000000000005\n",
            "X= 3.000000043320584 loss 10.000000000000002\n",
            "X= 3.0000000259923505 loss 10.0\n",
            "X= 3.0000000155954103 loss 10.0\n",
            "X= 3.000000009357246 loss 10.0\n",
            "X= 3.0000000056143477 loss 10.0\n",
            "X= 3.0000000033686085 loss 10.0\n",
            "X= 3.000000002021165 loss 10.0\n",
            "X= 3.000000001212699 loss 10.0\n",
            "X= 3.0000000007276193 loss 10.0\n",
            "X= 3.0000000004365717 loss 10.0\n",
            "X= 3.000000000261943 loss 10.0\n",
            "X= 3.000000000157166 loss 10.0\n",
            "X= 3.0000000000942997 loss 10.0\n",
            "X= 3.0000000000565796 loss 10.0\n",
            "X= 3.000000000033948 loss 10.0\n",
            "X= 3.0000000000203686 loss 10.0\n",
            "X= 3.0000000000122213 loss 10.0\n",
            "X= 3.000000000007333 loss 10.0\n",
            "X= 3.0000000000043996 loss 10.0\n",
            "X= 3.0000000000026397 loss 10.0\n",
            "X= 3.0000000000015836 loss 10.0\n",
            "X= 3.0000000000009504 loss 10.0\n",
            "X= 3.00000000000057 loss 10.0\n",
            "X= 3.000000000000342 loss 10.0\n",
            "X= 3.000000000000205 loss 10.0\n",
            "X= 3.000000000000123 loss 10.0\n",
            "X= 3.0000000000000737 loss 10.0\n",
            "X= 3.0000000000000444 loss 10.0\n",
            "X= 3.0000000000000266 loss 10.0\n",
            "X= 3.000000000000016 loss 10.0\n",
            "X= 3.0000000000000098 loss 10.0\n",
            "X= 3.0000000000000058 loss 10.0\n",
            "X= 3.0000000000000036 loss 10.0\n",
            "X= 3.000000000000002 loss 10.0\n",
            "X= 3.0000000000000013 loss 10.0\n",
            "X= 3.000000000000001 loss 10.0\n",
            "X= 3.0000000000000004 loss 10.0\n",
            "X= 3.0000000000000004 loss 10.0\n",
            "X= 3.0000000000000004 loss 10.0\n",
            "X= 3.0000000000000004 loss 10.0\n",
            "X= 3.0000000000000004 loss 10.0\n",
            "X= 3.0000000000000004 loss 10.0\n",
            "X= 3.0000000000000004 loss 10.0\n",
            "X= 3.0000000000000004 loss 10.0\n",
            "X= 3.0000000000000004 loss 10.0\n",
            "X= 3.0000000000000004 loss 10.0\n",
            "X= 3.0000000000000004 loss 10.0\n",
            "X= 3.0000000000000004 loss 10.0\n",
            "X= 3.0000000000000004 loss 10.0\n",
            "X= 3.0000000000000004 loss 10.0\n",
            "X= 3.0000000000000004 loss 10.0\n",
            "X= 3.0000000000000004 loss 10.0\n",
            "X= 3.0000000000000004 loss 10.0\n",
            "X= 3.0000000000000004 loss 10.0\n",
            "X= 3.0000000000000004 loss 10.0\n",
            "X= 3.0000000000000004 loss 10.0\n",
            "X= 3.0000000000000004 loss 10.0\n",
            "X= 3.0000000000000004 loss 10.0\n",
            "X= 3.0000000000000004 loss 10.0\n",
            "X= 3.0000000000000004 loss 10.0\n",
            "X= 3.0000000000000004 loss 10.0\n",
            "X= 3.0000000000000004 loss 10.0\n",
            "X= 3.0000000000000004 loss 10.0\n",
            "X= 3.0000000000000004 loss 10.0\n",
            "최소값 =  3.0000000000000004\n"
          ]
        },
        {
          "output_type": "execute_result",
          "data": {
            "text/plain": [
              "[<matplotlib.lines.Line2D at 0x7f5ea145c4d0>]"
            ]
          },
          "metadata": {},
          "execution_count": 1
        },
        {
          "output_type": "display_data",
          "data": {
            "text/plain": [
              "<Figure size 432x288 with 1 Axes>"
            ],
            "image/png": "[encoded data removed]"
          },
          "metadata": {
            "needs_background": "light"
          }
        }
      ],
      "source": [
        "import numpy as np\n",
        "import matplotlib.pyplot as plt\n",
        "\n",
        "x = 10  \n",
        "learning_rate = 0.2  \n",
        "precision = 0.00001  \n",
        "max_iterations = 100\n",
        "\n",
        "# 손실함수를 람다식으로 정의한다. \n",
        "loss_func = lambda x: (x-3)**2 + 10\n",
        "\n",
        "# 그래디언트를 람다식으로 정의한다. 손실함수의 1차 미분값이다. \n",
        "gradient = lambda x: 2*x-6\n",
        "\n",
        "list1 = []\n",
        "list2 = []\n",
        "\n",
        "# 그래디언트 강하법\n",
        "for i in range(max_iterations):\n",
        "    x = x - learning_rate * gradient(x)\n",
        "    list1.append(x)\n",
        "    list2.append(loss_func(x))\n",
        "    print(\"X=\", x, \"loss\", loss_func(x))\n",
        "\n",
        "print(\"최소값 = \", x)\n",
        "\n",
        "x1 = np.linspace(0.0, 10.0)\n",
        "y1 = loss_func(x1)\n",
        "fig, ax = plt.subplots()  # Create a figure containing a single axes.\n",
        "ax.plot(x1,y1)  # Plot some data on the axes.\n",
        "ax.plot(list1,list2, '*')  # Plot some data on the axes."
      ]
    }
  ]
}