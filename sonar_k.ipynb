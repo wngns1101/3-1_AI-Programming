{
  "cells": [
    {
      "cell_type": "code",
      "execution_count": 12,
      "metadata": {
        "id": "TXNlEThdQKqv"
      },
      "outputs": [],
      "source": [
        "\n",
        "from tensorflow import keras\n",
        "from keras.layers import Dense\n",
        "from keras.models import Sequential\n",
        "from sklearn.model_selection import KFold\n",
        "from sklearn.metrics import accuracy_score\n",
        "\n",
        "import pandas as pd"
      ]
    },
    {
      "cell_type": "code",
      "execution_count": 14,
      "metadata": {
        "id": "Wf1oIhQiQKqw",
        "colab": {
          "base_uri": "https://localhost:8080/"
        },
        "outputId": "5211561a-8b5b-4a5e-9351-829809d71e2a"
      },
      "outputs": [
        {
          "output_type": "stream",
          "name": "stdout",
          "text": [
            "2/2 [==============================] - 0s 9ms/step - loss: 0.4664 - accuracy: 0.9286\n",
            "2/2 [==============================] - 0s 10ms/step - loss: 0.8197 - accuracy: 0.7857\n",
            "2/2 [==============================] - 0s 8ms/step - loss: 0.7752 - accuracy: 0.8571\n",
            "2/2 [==============================] - 0s 8ms/step - loss: 0.5000 - accuracy: 0.8293\n",
            "2/2 [==============================] - 0s 9ms/step - loss: 0.5562 - accuracy: 0.8049\n",
            "정확도: [0.9285714030265808, 0.7857142686843872, 0.8571428656578064, 0.8292682766914368, 0.8048780560493469]\n",
            "정확도 평균: 0.8411149740219116\n"
          ]
        }
      ],
      "source": [
        "# 광물 데이터를 불러옵니다.\n",
        "df = pd.read_csv('/content/sonar3.csv', header=None)\n",
        "\n",
        "# 음파 관련 속성을 X로, 광물의 종류를 y로 저장합니다.\n",
        "X = df.iloc[:,0:60]\n",
        "y = df.iloc[:,60]\n",
        "\n",
        "# 몇 겹으로 나눌 것인지를 정합니다. \n",
        "k=5\n",
        "\n",
        "# KFold 함수를 불러옵니다. 분할하기 전에 샘플이 치우치지 않도록 섞어 줍니다.\n",
        "kfold = KFold(n_splits=k, shuffle=True)\n",
        "\n",
        "# 정확도가 채워질 빈 리스트를 준비합니다.\n",
        "acc_score = []\n",
        "\n",
        "def model_fn():\n",
        "    model = Sequential() # 딥러닝 모델의 구조를 시작합니다.\n",
        "    model.add(Dense(24, input_dim=60, activation='relu'))\n",
        "    model.add(Dense(10, activation='relu'))\n",
        "    model.add(Dense(1, activation='sigmoid'))\n",
        "    return model\n",
        "\n",
        "# K겹 교차 검증을 이용해 k번의 학습을 실행합니다. \n",
        "for train_index , test_index in kfold.split(X):  # for 문에 의해서 k번 반복합니다. spilt()에 의해 k개의 학습셋, 테스트셋으로 분리됩니다.\n",
        "    X_train , X_test = X.iloc[train_index,:], X.iloc[test_index,:]  \n",
        "    y_train , y_test = y.iloc[train_index], y.iloc[test_index]\n",
        "\n",
        "    model = model_fn()\n",
        "    model.compile(loss='binary_crossentropy', optimizer='adam', metrics=['accuracy'])\n",
        "    history=model.fit(X_train, y_train, epochs=200, batch_size=10, verbose=0) \n",
        "    \n",
        "    accuracy = model.evaluate(X_test, y_test)[1]  # 정확도를 구합니다.\n",
        "    acc_score.append(accuracy)  # 정확도 리스트에 저장합니다.\n",
        "\n",
        "# k번 실시된 정확도의 평균을 구합니다.\n",
        "avg_acc_score = sum(acc_score)/k\n",
        "\n",
        "# 결과를 출력합니다.\n",
        "print('정확도:', acc_score)\n",
        "print('정확도 평균:', avg_acc_score)\n",
        "\n",
        "\n"
      ]
    }
  ],
  "metadata": {
    "colab": {
      "provenance": []
    },
    "kernelspec": {
      "display_name": "Python 3 (ipykernel)",
      "language": "python",
      "name": "python3"
    },
    "language_info": {
      "codemirror_mode": {
        "name": "ipython",
        "version": 3
      },
      "file_extension": ".py",
      "mimetype": "text/x-python",
      "name": "python",
      "nbconvert_exporter": "python",
      "pygments_lexer": "ipython3",
      "version": "3.9.7"
    }
  },
  "nbformat": 4,
  "nbformat_minor": 0
}