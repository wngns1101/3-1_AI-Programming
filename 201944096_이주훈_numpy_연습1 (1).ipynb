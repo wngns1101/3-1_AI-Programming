{
  "nbformat": 4,
  "nbformat_minor": 0,
  "metadata": {
    "colab": {
      "provenance": []
    },
    "kernelspec": {
      "name": "python3",
      "display_name": "Python 3"
    },
    "language_info": {
      "name": "python"
    }
  },
  "cells": [
    {
      "cell_type": "markdown",
      "source": [
        "아래 문제들은 결과 출력까시 실행 후 노트북 파일을 제출"
      ],
      "metadata": {
        "id": "vydh4AaATqYd"
      }
    },
    {
      "cell_type": "markdown",
      "source": [
        "1.1차원이면서 크기가 10이고 0으로 채워진 배열을 생성하고 다섯번째 요소를 1로 설정하는 코드를 작성하시오. "
      ],
      "metadata": {
        "id": "592OJ3VlSerQ"
      }
    },
    {
      "cell_type": "code",
      "source": [
        "import numpy as np\n",
        "\n",
        "a = np.zeros((1, 10))\n",
        "a[0][5] = 1\n",
        "a\n"
      ],
      "metadata": {
        "id": "jZvIdvJDOyVY",
        "colab": {
          "base_uri": "https://localhost:8080/"
        },
        "outputId": "0af5b052-7143-4070-9b19-3436032b7665"
      },
      "execution_count": 13,
      "outputs": [
        {
          "output_type": "execute_result",
          "data": {
            "text/plain": [
              "array([[0., 0., 0., 0., 0., 1., 0., 0., 0., 0.]])"
            ]
          },
          "metadata": {},
          "execution_count": 13
        }
      ]
    },
    {
      "cell_type": "markdown",
      "source": [
        "2.아래와 같은 배열을 생성하는 code를 작성하시오.\n",
        "arange 사용\n",
        "\n",
        "[3,6,9,12,15,18,21]"
      ],
      "metadata": {
        "id": "ZVFhVdHiXGs5"
      }
    },
    {
      "cell_type": "code",
      "source": [
        "import numpy as np\n",
        "\n",
        "np.arange(3, 22, 3)"
      ],
      "metadata": {
        "id": "Rtng0qrqXXy8",
        "colab": {
          "base_uri": "https://localhost:8080/"
        },
        "outputId": "7faa731c-3a2f-4b19-cb98-a5c1554f9063"
      },
      "execution_count": 15,
      "outputs": [
        {
          "output_type": "execute_result",
          "data": {
            "text/plain": [
              "array([ 3,  6,  9, 12, 15, 18, 21])"
            ]
          },
          "metadata": {},
          "execution_count": 15
        }
      ]
    },
    {
      "cell_type": "markdown",
      "source": [
        "3.0부터 8까지의 값을 가지고 크기가 3x3인 행렬을 arange와 reshape 명령어를 이용하여 생성 하시오. \n",
        "\n",
        "[[0 1 2]    \n",
        " [3,4,5]  \n",
        " [6,7,8]]\n"
      ],
      "metadata": {
        "id": "Q7f9SpttTHt5"
      }
    },
    {
      "cell_type": "code",
      "source": [
        "import numpy as np\n",
        "a = np.arange(0, 9)\n",
        "a.reshape(3, 3)"
      ],
      "metadata": {
        "id": "2SXQGKL5Tzmd",
        "colab": {
          "base_uri": "https://localhost:8080/"
        },
        "outputId": "a621e246-72c8-47ad-fa55-4ec8cc0df8c7"
      },
      "execution_count": 16,
      "outputs": [
        {
          "output_type": "execute_result",
          "data": {
            "text/plain": [
              "array([[0, 1, 2],\n",
              "       [3, 4, 5],\n",
              "       [6, 7, 8]])"
            ]
          },
          "metadata": {},
          "execution_count": 16
        }
      ]
    },
    {
      "cell_type": "markdown",
      "source": [
        "4.난수로 채워진 3x3 배열을 생성하고 최대값과 최소값을 구하는 코드를 작성 하시오"
      ],
      "metadata": {
        "id": "3KGmXq0_T_Sl"
      }
    },
    {
      "cell_type": "code",
      "source": [
        "import numpy as np\n",
        "a = np.random.rand(3, 3)\n",
        "\n",
        "print(a.min())\n",
        "print(a.max())\n"
      ],
      "metadata": {
        "id": "xbyKcM1AUX7t",
        "colab": {
          "base_uri": "https://localhost:8080/"
        },
        "outputId": "304742f6-6c86-451b-9aa0-5fb8bd6fdab4"
      },
      "execution_count": 21,
      "outputs": [
        {
          "output_type": "stream",
          "name": "stdout",
          "text": [
            "0.010296210068615586\n",
            "0.9908609163879847\n"
          ]
        }
      ]
    },
    {
      "cell_type": "markdown",
      "source": [
        "5.다음과 같은 행렬을 만드는 code를 작성하시오. \n",
        "(ones 함수와 slicing 이용)\n",
        "\n",
        "[[1,1,1,0,0]    \n",
        "  [1,1,1,0,0]  \n",
        "  [1,1,1,0,0]   \n",
        "  [1,1,1,1,1]] "
      ],
      "metadata": {
        "id": "wdJDT55-VCw8"
      }
    },
    {
      "cell_type": "code",
      "source": [
        "import numpy as np\n",
        "\n",
        "a = np.ones((4, 5))\n",
        "a[0:3, 3:] = 0\n",
        "a\n"
      ],
      "metadata": {
        "id": "U16T9gcHVwkF",
        "colab": {
          "base_uri": "https://localhost:8080/"
        },
        "outputId": "f044495b-9784-45b2-f523-ab1726f19a35"
      },
      "execution_count": 23,
      "outputs": [
        {
          "output_type": "execute_result",
          "data": {
            "text/plain": [
              "array([[1., 1., 1., 0., 0.],\n",
              "       [1., 1., 1., 0., 0.],\n",
              "       [1., 1., 1., 0., 0.],\n",
              "       [1., 1., 1., 1., 1.]])"
            ]
          },
          "metadata": {},
          "execution_count": 23
        }
      ]
    },
    {
      "cell_type": "markdown",
      "source": [
        "6.5x5 행렬을 만들어 체스보드 패턴으로 채워보자\n",
        "( zeros 함수와 slicing 이용)\n",
        "\n",
        "[[0,1,0,1,0]  \n",
        "[1,0,1,0,1]  \n",
        "[0,1,0,1,0]  \n",
        "[1,0,1,0,1]  \n",
        "[0,1,0,1,0]]  "
      ],
      "metadata": {
        "id": "k5AJ3OVbV0oC"
      }
    },
    {
      "cell_type": "code",
      "source": [
        "import numpy as np\n",
        "\n",
        "a = np.zeros((5, 5))\n",
        "a[::2, 1::2] = 1\n",
        "a[1::2, 0::2] = 1\n",
        "a"
      ],
      "metadata": {
        "colab": {
          "base_uri": "https://localhost:8080/"
        },
        "id": "o0nNSSzuWz9n",
        "outputId": "777c05c7-1f8b-4bdc-9dfb-66670c6e0385"
      },
      "execution_count": 50,
      "outputs": [
        {
          "output_type": "execute_result",
          "data": {
            "text/plain": [
              "array([[0., 1., 0., 1., 0.],\n",
              "       [1., 0., 1., 0., 1.],\n",
              "       [0., 1., 0., 1., 0.],\n",
              "       [1., 0., 1., 0., 1.],\n",
              "       [0., 1., 0., 1., 0.]])"
            ]
          },
          "metadata": {},
          "execution_count": 50
        }
      ]
    }
  ]
}