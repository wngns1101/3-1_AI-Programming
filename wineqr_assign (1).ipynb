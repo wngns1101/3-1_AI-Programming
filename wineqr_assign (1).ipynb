{
  "nbformat": 4,
  "nbformat_minor": 0,
  "metadata": {
    "colab": {
      "provenance": []
    },
    "kernelspec": {
      "name": "python3",
      "display_name": "Python 3"
    },
    "language_info": {
      "name": "python"
    }
  },
  "cells": [
    {
      "cell_type": "markdown",
      "source": [
        "다음 조건을 만족 하면서 회귀 예측을 수행하는 code를 작성하시오.   \n",
        "1.Quality 예측   \n",
        "2.테스트 데이터, 훈련 데이터 분리  \n",
        "3.검증 set 사용  \n",
        "4.Early stopping 적용  \n",
        "5.Model 저장   \n",
        "6.Metric은 mse   \n",
        "7.Test 데이터 이용한 성능 측정     \n",
        "8.model performance(mse) 0.6 이하"
      ],
      "metadata": {
        "id": "AiKWwyKL8iiX"
      }
    },
    {
      "cell_type": "code",
      "execution_count": null,
      "metadata": {
        "id": "w31G0dhZuqbx"
      },
      "outputs": [],
      "source": [
        "import numpy as np\n",
        "import pandas as pd\n",
        "from tensorflow import keras\n",
        "from keras.layers import Dense\n",
        "from keras.models import Sequential\n",
        "from keras.callbacks import EarlyStopping, ModelCheckpoint\n",
        "from sklearn.model_selection import train_test_split\n",
        "\n",
        "from sklearn.preprocessing import MinMaxScaler\n",
        "\n",
        "# 데이터 세트를 읽어들인다. \n",
        "df = pd.read_csv(\"/content/wineqrev.csv\", sep=',')\n",
        "\n",
        "X=df.iloc[:,0:11]\n",
        "y=df.iloc[:,11]\n",
        "\n",
        "### 0과 1사이로 정규화 \n",
        "mms=MinMaxScaler()\n",
        "mms.fit(X)\n",
        "print(X.head())\n",
        "X_mms=mms.transform(X)\n",
        "X = pd.DataFrame(X_mms, columns=X.columns, index=list(X.index.values))\n",
        "\n",
        "print(X.head())\n",
        "#########################################################################3\n",
        "# code 작성\n",
        "\n",
        "\n",
        "\n",
        "\n",
        "\n",
        "\n",
        "\n",
        "\n",
        "\n",
        "\n",
        "\n",
        "#############################################################################3\n",
        "# 테스트 결과를 출력합니다.\n",
        "score=model.evaluate(X_test, y_test)\n",
        "print('model performance(mse):', score[1])\n"
      ]
    }
  ]
}